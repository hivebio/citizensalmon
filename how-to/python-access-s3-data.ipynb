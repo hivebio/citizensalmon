{
 "cells": [
  {
   "cell_type": "code",
   "execution_count": 1,
   "metadata": {
    "collapsed": true
   },
   "outputs": [],
   "source": [
    "import boto3"
   ]
  },
  {
   "cell_type": "code",
   "execution_count": 2,
   "metadata": {
    "collapsed": true
   },
   "outputs": [],
   "source": [
    "bucket_name = 'citizensalmon'\n",
    "prefix = 'larson/raw-data/'"
   ]
  },
  {
   "cell_type": "code",
   "execution_count": 3,
   "metadata": {
    "collapsed": true
   },
   "outputs": [],
   "source": [
    "# create the necessary boto3 objects for interacting with S3\n",
    "s3 = boto3.resource('s3')\n",
    "bucket = s3.Bucket(bucket_name)"
   ]
  },
  {
   "cell_type": "code",
   "execution_count": 4,
   "metadata": {
    "collapsed": false
   },
   "outputs": [
    {
     "name": "stdout",
     "output_type": "stream",
     "text": [
      "larson/raw-data/cjfas-2013-0502suppla.xlsx: 81357\n",
      "larson/raw-data/cjfas-2013-0502supplb.docx: 79493\n",
      "larson/raw-data/cjfas-2013-0502supplc.xlsx: 12252\n",
      "larson/raw-data/cjfas-2013-0502suppld.xlsx: 12305\n",
      "larson/raw-data/cjfas-2013-0502supple.docx: 25643\n",
      "larson/raw-data/cjfas-2013-0502supplf.xlsx: 9156\n",
      "larson/raw-data/cjfas-2013-0502suppli.fa: 2829761\n",
      "larson/raw-data/genepop_western_alaska_chinook_RAD.txt: 14615158\n",
      "8 files found with total of 17665125 bytes\n"
     ]
    }
   ],
   "source": [
    "i = 0\n",
    "total_object_size = 0\n",
    "\n",
    "# iterate over all files under the desired prefix\n",
    "for obj in bucket.objects.filter(Prefix = prefix):\n",
    "    if obj.size == 0:\n",
    "        continue\n",
    "    # show basic info about each object\n",
    "    print '%s: %s' % (obj.key, obj.size)\n",
    "    # keep tally of file count and size\n",
    "    i += 1\n",
    "    total_object_size += obj.size\n",
    "print '%s files found with total of %s bytes' % (i, total_object_size)"
   ]
  },
  {
   "cell_type": "code",
   "execution_count": null,
   "metadata": {
    "collapsed": true
   },
   "outputs": [],
   "source": [
    "# function useful for streaming data from s3 without storing locally\n",
    "def to_StringIO(info = None, s3 = None, local = False,\n",
    "                bucket = None, key = None, file_name = None):\n",
    "    # validate inputs\n",
    "    if (info is None and (bucket is None or key is None)\n",
    "        and file_name is None):\n",
    "        raise ValueError('Must supply an info dictionary if all other'\n",
    "                         'inputs are None')\n",
    "    if info is None:\n",
    "        info = {}\n",
    "    if bucket is None:\n",
    "        bucket = info.get('bucket', None)\n",
    "    if key is None:\n",
    "        key = info.get('key', None)\n",
    "    if file_name is None:\n",
    "        file_name = info.get('file', None)\n",
    "    if (bucket is None or key is None) and file_name is None:\n",
    "        raise ValueError('Must supply either a file_name or bucket/key pair')\n",
    "    \n",
    "    # stream from local file\n",
    "    if local and file_name is not None:\n",
    "        # open as binary if compressed\n",
    "        r = 'rb' if file_name.endswith('gz') else 'r'\n",
    "        with open(file_name, r) as fh:\n",
    "            f = StringIO(fh.read())\n",
    "            f.seek(0)\n",
    "            return f\n",
    "    \n",
    "    # use default credential config if none provided\n",
    "    if s3 is None:\n",
    "        s3 = boto3.resource('s3')\n",
    "    obj = s3.Object(bucket, key)\n",
    "    f = StringIO(obj.get()['Body'].read())\n",
    "    f.seek(0)\n",
    "    return f"
   ]
  }
 ],
 "metadata": {
  "kernelspec": {
   "display_name": "Python 2",
   "language": "python",
   "name": "python2"
  },
  "language_info": {
   "codemirror_mode": {
    "name": "ipython",
    "version": 2
   },
   "file_extension": ".py",
   "mimetype": "text/x-python",
   "name": "python",
   "nbconvert_exporter": "python",
   "pygments_lexer": "ipython2",
   "version": "2.7.11"
  }
 },
 "nbformat": 4,
 "nbformat_minor": 0
}
