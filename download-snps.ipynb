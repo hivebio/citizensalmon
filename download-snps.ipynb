{
 "cells": [
  {
   "cell_type": "code",
   "execution_count": 1,
   "metadata": {
    "collapsed": true
   },
   "outputs": [],
   "source": [
    "from Bio import Entrez\n",
    "Entrez.email = 'zacharymueller@gmail.com'"
   ]
  },
  {
   "cell_type": "code",
   "execution_count": 2,
   "metadata": {
    "collapsed": true
   },
   "outputs": [],
   "source": [
    "search_term = 'txid74940[Organism:noexp]'\n",
    "handle = Entrez.esearch(db='snp', term=search_term, retmax=1000)\n",
    "snps = Entrez.read(handle)"
   ]
  },
  {
   "cell_type": "code",
   "execution_count": 3,
   "metadata": {
    "collapsed": false
   },
   "outputs": [],
   "source": [
    "# helpful for batch downloads\n",
    "# https://www.biostars.org/p/63506/#63512\n",
    "# http://biopython.org/DIST/docs/tutorial/Tutorial.html#htoc114\n",
    "out_file = 'data/ots_snps.fa'\n",
    "ids=snps['IdList']\n",
    "request = Entrez.epost(db='snp',id=','.join(map(str,ids)))\n",
    "result = Entrez.read(request)\n",
    "webEnv = result['WebEnv']\n",
    "queryKey = result['QueryKey']\n",
    "\n",
    "handle = Entrez.efetch(db='snp',retmode='fasta', rettype='fasta',\n",
    "                       webenv=webEnv, query_key=queryKey)\n",
    "with open(out_file, 'w') as f:\n",
    "    s = handle.read()\n",
    "    s = s.replace('\\n\\n', '\\n')\n",
    "    f.write(s)"
   ]
  }
 ],
 "metadata": {
  "kernelspec": {
   "display_name": "Python 2",
   "language": "python",
   "name": "python2"
  },
  "language_info": {
   "codemirror_mode": {
    "name": "ipython",
    "version": 2
   },
   "file_extension": ".py",
   "mimetype": "text/x-python",
   "name": "python",
   "nbconvert_exporter": "python",
   "pygments_lexer": "ipython2",
   "version": "2.7.12"
  }
 },
 "nbformat": 4,
 "nbformat_minor": 0
}
