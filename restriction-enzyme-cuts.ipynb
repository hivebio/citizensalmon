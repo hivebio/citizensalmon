{
 "cells": [
  {
   "cell_type": "code",
   "execution_count": 1,
   "metadata": {
    "collapsed": true
   },
   "outputs": [],
   "source": [
    "from Bio import SeqIO, Restriction as RE"
   ]
  },
  {
   "cell_type": "code",
   "execution_count": 2,
   "metadata": {
    "collapsed": true
   },
   "outputs": [],
   "source": [
    "# feed all SNP sequences into a dict\n",
    "d = {}\n",
    "with open('data/larson/cjfas-2013-0502suppli.fa', \"rU\") as f:\n",
    "    for record in SeqIO.parse(f, \"fasta\"):\n",
    "        d[record.id] = record.seq"
   ]
  },
  {
   "cell_type": "code",
   "execution_count": 3,
   "metadata": {
    "collapsed": true
   },
   "outputs": [],
   "source": [
    "def visualize(seq, enz):\n",
    "    digested_seqs = enz.catalyze(seq)\n",
    "    \n",
    "    print 'Cut site: %s' % enz.site\n",
    "    print 'Resulting Segments: %d' % len(digested_seqs)\n",
    "    print '------------------------'\n",
    "    print 'Before:'\n",
    "    print str(seq) + '\\n'\n",
    "    print 'After:'\n",
    "    \n",
    "    # print out the cuts on separate lines\n",
    "    cut_index = 0\n",
    "    for seg in digested_seqs:\n",
    "        if cut_index == 0:\n",
    "            print str(seg) + '/'\n",
    "            cut_index += len(seg)\n",
    "            continue\n",
    "\n",
    "        print ''.join([' ']*(cut_index-1)) + '/' + str(seg) + '/'\n",
    "        cut_index += len(seg)"
   ]
  },
  {
   "cell_type": "code",
   "execution_count": 4,
   "metadata": {
    "collapsed": true
   },
   "outputs": [],
   "source": [
    "def compare(snp_id, seqs, enz):\n",
    "    # extract the two alleles of the SNP\n",
    "    ID = 'snp:ID:{snp};allele_{a}'\n",
    "    snp = []\n",
    "    snp.append(seqs[ID.format(snp=snp_id,a=1)])\n",
    "    snp.append(seqs[ID.format(snp=snp_id,a=2)])\n",
    "    \n",
    "    # identify where in the sequence the SNP occurs\n",
    "    i = [x != y for (x, y) in zip(str(snp[0]), str(snp[1]))].index(True)\n",
    "    print 'Cutting SNP: `%s`' % ID.format(snp=snp_id, a=1)\n",
    "    print 'Visualizing the two alleles'\n",
    "    print '%s (Allele 1)' % str(snp[0])\n",
    "    print '%s (Allele 2)' % str(snp[1])\n",
    "    print ''.join([' ']*i) + '^'\n",
    "    \n",
    "    for i in xrange(2):\n",
    "        print 'Cutting Allele %s' % str(i+1)\n",
    "        visualize(snp[i], enz)\n",
    "        if i==0:\n",
    "            print '- - - - - - - - - - - - - - - - - - - - - - - - - '\n",
    "    \n",
    "    # helpful link:\n",
    "    # http://www.bioinformatics.org/sms/iupac.html"
   ]
  },
  {
   "cell_type": "code",
   "execution_count": 5,
   "metadata": {
    "collapsed": false
   },
   "outputs": [
    {
     "name": "stdout",
     "output_type": "stream",
     "text": [
      "Cutting SNP: `snp:ID:1372;allele_1`\n",
      "Visualizing the two alleles\n",
      "TGCAGGGGACACAAATGTACATGGTGTAACCAGTTTCTATTCTTTGTTTCTTTGGTGTAGCAAGCAAGCATTTTGGGCTTGAAAACACCCATAC (Allele 1)\n",
      "TGCAGGGGACACAAATGTACATGGTGTAACCAGTTTCTATTCTTTGTTTCTTTGGTGTAGCAAGCATGCATTTTGGGCTTGAAAACACCCATAC (Allele 2)\n",
      "                                                                  ^\n",
      "Cutting Allele 1\n",
      "Cut site: ATGCAT\n",
      "Resulting Segments: 1\n",
      "------------------------\n",
      "Before:\n",
      "TGCAGGGGACACAAATGTACATGGTGTAACCAGTTTCTATTCTTTGTTTCTTTGGTGTAGCAAGCAAGCATTTTGGGCTTGAAAACACCCATAC\n",
      "\n",
      "After:\n",
      "TGCAGGGGACACAAATGTACATGGTGTAACCAGTTTCTATTCTTTGTTTCTTTGGTGTAGCAAGCAAGCATTTTGGGCTTGAAAACACCCATAC/\n",
      "- - - - - - - - - - - - - - - - - - - - - - - - - \n",
      "Cutting Allele 2\n",
      "Cut site: ATGCAT\n",
      "Resulting Segments: 2\n",
      "------------------------\n",
      "Before:\n",
      "TGCAGGGGACACAAATGTACATGGTGTAACCAGTTTCTATTCTTTGTTTCTTTGGTGTAGCAAGCATGCATTTTGGGCTTGAAAACACCCATAC\n",
      "\n",
      "After:\n",
      "TGCAGGGGACACAAATGTACATGGTGTAACCAGTTTCTATTCTTTGTTTCTTTGGTGTAGCAAGCATGCA/\n",
      "                                                                     /TTTTGGGCTTGAAAACACCCATAC/\n"
     ]
    }
   ],
   "source": [
    "compare(1372, d, RE.EcoT22I)"
   ]
  },
  {
   "cell_type": "code",
   "execution_count": 6,
   "metadata": {
    "collapsed": false
   },
   "outputs": [
    {
     "name": "stdout",
     "output_type": "stream",
     "text": [
      "Cutting SNP: `snp:ID:3769;allele_1`\n",
      "Visualizing the two alleles\n",
      "TGCAGGATTGTCTGACACTAGTCACCCGGACAACTGATGAACCTGAGTTTGCACAACCGAAGAATTTCTGCACAAACTGTCAAACAGTCTCAGG (Allele 1)\n",
      "TGCAGGATTGTCTGACACTAGTCACCCGGACAACTGATGTACCTGAGTTTGCACAACCGAAGAATTTCTGCACAAACTGTCAAACAGTCTCAGG (Allele 2)\n",
      "                                       ^\n",
      "Cutting Allele 1\n",
      "Cut site: ACNNNNGTAYC\n",
      "Resulting Segments: 1\n",
      "------------------------\n",
      "Before:\n",
      "TGCAGGATTGTCTGACACTAGTCACCCGGACAACTGATGAACCTGAGTTTGCACAACCGAAGAATTTCTGCACAAACTGTCAAACAGTCTCAGG\n",
      "\n",
      "After:\n",
      "TGCAGGATTGTCTGACACTAGTCACCCGGACAACTGATGAACCTGAGTTTGCACAACCGAAGAATTTCTGCACAAACTGTCAAACAGTCTCAGG/\n",
      "- - - - - - - - - - - - - - - - - - - - - - - - - \n",
      "Cutting Allele 2\n",
      "Cut site: ACNNNNGTAYC\n",
      "Resulting Segments: 3\n",
      "------------------------\n",
      "Before:\n",
      "TGCAGGATTGTCTGACACTAGTCACCCGGACAACTGATGTACCTGAGTTTGCACAACCGAAGAATTTCTGCACAAACTGTCAAACAGTCTCAGG\n",
      "\n",
      "After:\n",
      "TGCAGGATTGTCTGACACTAGT/\n",
      "                     /CACCCGGACAACTGATGTACCTGAGTTTGCACA/\n",
      "                                                      /ACCGAAGAATTTCTGCACAAACTGTCAAACAGTCTCAGG/\n"
     ]
    }
   ],
   "source": [
    "compare(3769, d, RE.BaeI)"
   ]
  },
  {
   "cell_type": "code",
   "execution_count": 7,
   "metadata": {
    "collapsed": false
   },
   "outputs": [
    {
     "name": "stdout",
     "output_type": "stream",
     "text": [
      "Cutting SNP: `snp:ID:4369;allele_1`\n",
      "Visualizing the two alleles\n",
      "TGCAGGCTTCACACGTGTTCACAATGTTAACTCCACCTGTAGTTTCTCACCGCAGGTTTGCTTATATGCAAAAGAGTCACTAAAATATGCACTA (Allele 1)\n",
      "TGCAGGCTTCACACGTGTTCACAATGTTAACTCCACCTGTAGTTTCTCATCGCAGGTTTGCTTATATGCAAAAGAGTCACTAAAATATGCACTA (Allele 2)\n",
      "                                                 ^\n",
      "Cutting Allele 1\n",
      "Cut site: YSCNS\n",
      "Resulting Segments: 4\n",
      "------------------------\n",
      "Before:\n",
      "TGCAGGCTTCACACGTGTTCACAATGTTAACTCCACCTGTAGTTTCTCACCGCAGGTTTGCTTATATGCAAAAGAGTCACTAAAATATGCACTA\n",
      "\n",
      "After:\n",
      "TGCAGGCTTCACA/\n",
      "            /CGTGTTCACAATGTTAACTCCACC/\n",
      "                                    /TGTAGTT/\n",
      "                                           /TCTCACCGCAGGTTTGCTTATATGCAAAAGAGTCACTAAAATATGCACTA/\n",
      "- - - - - - - - - - - - - - - - - - - - - - - - - \n",
      "Cutting Allele 2\n",
      "Cut site: YSCNS\n",
      "Resulting Segments: 4\n",
      "------------------------\n",
      "Before:\n",
      "TGCAGGCTTCACACGTGTTCACAATGTTAACTCCACCTGTAGTTTCTCATCGCAGGTTTGCTTATATGCAAAAGAGTCACTAAAATATGCACTA\n",
      "\n",
      "After:\n",
      "TGCAGGCTTCACA/\n",
      "            /CGTGTTCACAATGTTAACTCCACCTGTAGTT/\n",
      "                                           /TCTCATCGCAGGTTTGCTT/\n",
      "                                                              /ATATGCAAAAGAGTCACTAAAATATGCACTA/\n"
     ]
    }
   ],
   "source": [
    "compare(4369, d, RE.AspBHI)"
   ]
  },
  {
   "cell_type": "code",
   "execution_count": 8,
   "metadata": {
    "collapsed": false
   },
   "outputs": [
    {
     "name": "stdout",
     "output_type": "stream",
     "text": [
      "Cutting SNP: `snp:ID:2687;allele_1`\n",
      "Visualizing the two alleles\n",
      "TGCAGGTGTAGAAGCCGGATGTGGAGGTCCTAGGAGGTAACGTGGTCTGCGGTTGTGATAAGAGAATTATGTTCTCCAGGTACATAACCCAATT (Allele 1)\n",
      "TGCAGGTGTAGAAGCCGGATGTGGAGGTCCTAGGTGGTAACGTGGTCTGCGGTTGTGATAAGAGAATTATGTTCTCCAGGTACATAACCCAATT (Allele 2)\n",
      "                                  ^\n",
      "Cutting Allele 1\n",
      "Cut site: CACNNNNNNTCC\n",
      "Resulting Segments: 3\n",
      "------------------------\n",
      "Before:\n",
      "TGCAGGTGTAGAAGCCGGATGTGGAGGTCCTAGGAGGTAACGTGGTCTGCGGTTGTGATAAGAGAATTATGTTCTCCAGGTACATAACCCAATT\n",
      "\n",
      "After:\n",
      "TGCAGGTGTAGAAGCCGGATGTGGA/\n",
      "                        /GGTCCTAGGAGGTAACGTGGTCTGCGGTTGTG/\n",
      "                                                        /ATAAGAGAATTATGTTCTCCAGGTACATAACCCAATT/\n",
      "- - - - - - - - - - - - - - - - - - - - - - - - - \n",
      "Cutting Allele 2\n",
      "Cut site: CACNNNNNNTCC\n",
      "Resulting Segments: 1\n",
      "------------------------\n",
      "Before:\n",
      "TGCAGGTGTAGAAGCCGGATGTGGAGGTCCTAGGTGGTAACGTGGTCTGCGGTTGTGATAAGAGAATTATGTTCTCCAGGTACATAACCCAATT\n",
      "\n",
      "After:\n",
      "TGCAGGTGTAGAAGCCGGATGTGGAGGTCCTAGGTGGTAACGTGGTCTGCGGTTGTGATAAGAGAATTATGTTCTCCAGGTACATAACCCAATT/\n"
     ]
    }
   ],
   "source": [
    "compare(2687, d, RE.TstI)"
   ]
  },
  {
   "cell_type": "code",
   "execution_count": 9,
   "metadata": {
    "collapsed": false
   },
   "outputs": [
    {
     "name": "stdout",
     "output_type": "stream",
     "text": [
      "Cutting SNP: `snp:ID:4043;allele_1`\n",
      "Visualizing the two alleles\n",
      "TGCAGGATTCTTTTCCAGCTGCAGCAAACTGGCTCAAATTAAGATTCTACATCGGTGAAACCTGAATCTATGCCCCCCGACGAACCATCAAACA (Allele 1)\n",
      "TGCAGGATTCTTTTCCAGCTGCAGCAAACTGGCTCAAATTAAGATTCTACATCGGTGAAACCTGAATGTATGCCCCCCGACGAACCATCAAACA (Allele 2)\n",
      "                                                                   ^\n",
      "Cutting Allele 1\n",
      "Cut site: C\n",
      "Resulting Segments: 37\n",
      "------------------------\n",
      "Before:\n",
      "TGCAGGATTCTTTTCCAGCTGCAGCAAACTGGCTCAAATTAAGATTCTACATCGGTGAAACCTGAATCTATGCCCCCCGACGAACCATCAAACA\n",
      "\n",
      "After:\n",
      "TGCAGGAT/\n",
      "       /TCT/\n",
      "          /TT/\n",
      "            /T/\n",
      "             /CCAGCT/\n",
      "                   /G/\n",
      "                    /C/\n",
      "                     /AGC/\n",
      "                        /A/\n",
      "                         /AAC/\n",
      "                            /TGG/\n",
      "                               /C/\n",
      "                                /TC/\n",
      "                                  /AAAT/\n",
      "                                      /TAAG/\n",
      "                                          /A/\n",
      "                                           /T/\n",
      "                                            //\n",
      "                                            /TC/\n",
      "                                              /TACATCG/\n",
      "                                                     /GTG/\n",
      "                                                        /AAA/\n",
      "                                                           /CC/\n",
      "                                                             /T/\n",
      "                                                              /GAATCT/\n",
      "                                                                    /AT/\n",
      "                                                                      /G/\n",
      "                                                                       //\n",
      "                                                                       /CCCCCC/\n",
      "                                                                             /GACGA/\n",
      "                                                                                  /A/\n",
      "                                                                                   /C/\n",
      "                                                                                    /C/\n",
      "                                                                                     /A/\n",
      "                                                                                      /T/\n",
      "                                                                                       /CAA/\n",
      "                                                                                          /ACA/\n",
      "- - - - - - - - - - - - - - - - - - - - - - - - - \n",
      "Cutting Allele 2\n",
      "Cut site: C\n",
      "Resulting Segments: 37\n",
      "------------------------\n",
      "Before:\n",
      "TGCAGGATTCTTTTCCAGCTGCAGCAAACTGGCTCAAATTAAGATTCTACATCGGTGAAACCTGAATGTATGCCCCCCGACGAACCATCAAACA\n",
      "\n",
      "After:\n",
      "TGCAGGAT/\n",
      "       /TCT/\n",
      "          /TT/\n",
      "            /T/\n",
      "             /CCAGCT/\n",
      "                   /G/\n",
      "                    /C/\n",
      "                     /AGC/\n",
      "                        /A/\n",
      "                         /AAC/\n",
      "                            /TGG/\n",
      "                               /C/\n",
      "                                /TC/\n",
      "                                  /AAAT/\n",
      "                                      /TAAG/\n",
      "                                          /A/\n",
      "                                           /T/\n",
      "                                            //\n",
      "                                            /TC/\n",
      "                                              /TACATCG/\n",
      "                                                     /GTG/\n",
      "                                                        /A/\n",
      "                                                         /AA/\n",
      "                                                           /CC/\n",
      "                                                             /T/\n",
      "                                                              /GAATGT/\n",
      "                                                                    /AT/\n",
      "                                                                      /G/\n",
      "                                                                       //\n",
      "                                                                       /CCCCCCGACGA/\n",
      "                                                                                  /A/\n",
      "                                                                                   /C/\n",
      "                                                                                    /C/\n",
      "                                                                                     /A/\n",
      "                                                                                      /T/\n",
      "                                                                                       /CAA/\n",
      "                                                                                          /ACA/\n"
     ]
    }
   ],
   "source": [
    "compare(4043, d, RE.YkrI)"
   ]
  }
 ],
 "metadata": {
  "kernelspec": {
   "display_name": "Python 2",
   "language": "python",
   "name": "python2"
  },
  "language_info": {
   "codemirror_mode": {
    "name": "ipython",
    "version": 2
   },
   "file_extension": ".py",
   "mimetype": "text/x-python",
   "name": "python",
   "nbconvert_exporter": "python",
   "pygments_lexer": "ipython2",
   "version": "2.7.12"
  }
 },
 "nbformat": 4,
 "nbformat_minor": 0
}
