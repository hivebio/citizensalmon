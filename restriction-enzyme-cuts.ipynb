{
 "cells": [
  {
   "cell_type": "code",
   "execution_count": 1,
   "metadata": {
    "collapsed": true
   },
   "outputs": [],
   "source": [
    "from Bio import SeqIO, Restriction as RE"
   ]
  },
  {
   "cell_type": "code",
   "execution_count": 2,
   "metadata": {
    "collapsed": true
   },
   "outputs": [],
   "source": [
    "# feed all SNP sequences into a dict\n",
    "d = {}\n",
    "with open('data/larson/cjfas-2013-0502suppli.fa', \"rU\") as f:\n",
    "    for record in SeqIO.parse(f, \"fasta\"):\n",
    "        d[record.id] = record.seq"
   ]
  },
  {
   "cell_type": "code",
   "execution_count": 3,
   "metadata": {
    "collapsed": true
   },
   "outputs": [],
   "source": [
    "def visualize(seq, enz):\n",
    "    digested_seqs = enz.catalyze(seq)\n",
    "    a = digested_seqs[0]\n",
    "    b = digested_seqs[1]\n",
    "    \n",
    "    print 'Cut site: %s' % enz.site\n",
    "    print '------------------------'\n",
    "    \n",
    "    print 'Before:'\n",
    "    print str(seq) + '\\n'\n",
    "\n",
    "    print 'After:'\n",
    "    print str(a) + '/'\n",
    "    print ''.join([' '] * (len(a)-1)) + '/' + str(b)"
   ]
  },
  {
   "cell_type": "code",
   "execution_count": 4,
   "metadata": {
    "collapsed": true
   },
   "outputs": [],
   "source": [
    "def compare(snp_id, allele, seqs, enz):\n",
    "    # extract the two alleles of the SNP\n",
    "    ID = 'snp:ID:{snp};allele_{a}'\n",
    "    snp1 = seqs[ID.format(snp=snp_id,a=allele)]\n",
    "    allele_alt = 1 if allele == 2 else 2\n",
    "    snp2 = seqs[ID.format(snp=snp_id,a=allele_alt)]\n",
    "    \n",
    "    # identify where in the sequence the SNP occurs\n",
    "    i = [x != y for (x, y) in zip(str(snp1), str(snp2))].index(True)\n",
    "    print 'Cutting SNP: `%s`' % ID.format(snp=snp_id, a=allele)\n",
    "    print 'Visualizing the two alleles'\n",
    "    print '%s (Allele %d)' % (str(snp1), allele)\n",
    "    print '%s (Allele %d)' % (str(snp2), allele_alt)\n",
    "    print ''.join([' ']*i) + '^'\n",
    "    \n",
    "    print 'Cutting Allele %d' % allele\n",
    "    visualize(snp1, enz)\n",
    "    \n",
    "    # helpful link:\n",
    "    # http://www.bioinformatics.org/sms/iupac.html"
   ]
  },
  {
   "cell_type": "code",
   "execution_count": 5,
   "metadata": {
    "collapsed": false
   },
   "outputs": [
    {
     "name": "stdout",
     "output_type": "stream",
     "text": [
      "Cutting SNP: `snp:ID:2150;allele_1`\n",
      "Visualizing the two alleles\n",
      "TGCAGGGCAGGCACTCTTCCCCCTCAGTGTTTGCGTGCAGTTTTGGGGAGTAGTTATGTAGTTCAGCTGGTAATTCAATTGCATTTTTCAAGAG (Allele 1)\n",
      "TGCAGGGCAGGCACTCTTCCCCCTCAGTGTTTGCGTGCAGTTTTGGGGAGTAGTTTTGTAGTTCAGCTGGTAATTCAATTGCATTTTTCAAGAG (Allele 2)\n",
      "                                                       ^\n",
      "Cutting Allele 1\n",
      "Cut site: YATR\n",
      "------------------------\n",
      "Before:\n",
      "TGCAGGGCAGGCACTCTTCCCCCTCAGTGTTTGCGTGCAGTTTTGGGGAGTAGTTATGTAGTTCAGCTGGTAATTCAATTGCATTTTTCAAGAG\n",
      "\n",
      "After:\n",
      "TGCAGGGCAGGCACTCTTCCCCCTCAGTGTTTGCGTGCAGTTTTGGGGAGTAGTTA/\n",
      "                                                       /TGTAGTTCAGCTGGTAATTCAATTGCATTTTTCAAGAG\n"
     ]
    }
   ],
   "source": [
    "compare(2150, 1, d, RE.FaiI)"
   ]
  },
  {
   "cell_type": "code",
   "execution_count": 6,
   "metadata": {
    "collapsed": false
   },
   "outputs": [
    {
     "name": "stdout",
     "output_type": "stream",
     "text": [
      "Cutting SNP: `snp:ID:7165;allele_2`\n",
      "Visualizing the two alleles\n",
      "TGCAGGAGCATCAGGGACTTTTCCTTCAGGATTTTGTCAATCCTGCAAGATTCCTGTGGGACTTTTTTGTACGGGTATGAACAGGAACATCGCT (Allele 2)\n",
      "TGCAGGAGCATCAGGGACTTTTCCTTCAGGATTTTGTCAATCCTGCAAGATTCCTGTGGGACTTTTTTGTACGGGTACGAACAGGAACATCGCT (Allele 1)\n",
      "                                                                             ^\n",
      "Cutting Allele 2\n",
      "Cut site: YATR\n",
      "------------------------\n",
      "Before:\n",
      "TGCAGGAGCATCAGGGACTTTTCCTTCAGGATTTTGTCAATCCTGCAAGATTCCTGTGGGACTTTTTTGTACGGGTATGAACAGGAACATCGCT\n",
      "\n",
      "After:\n",
      "TGCAGGAGCATCAGGGACTTTTCCTTCAGGATTTTGTCAATCCTGCAAGATTCCTGTGGGACTTTTTTGTACGGGTA/\n",
      "                                                                            /TGAACAGGAACATCGCT\n"
     ]
    }
   ],
   "source": [
    "compare(7165, 2, d, RE.FaiI)"
   ]
  },
  {
   "cell_type": "code",
   "execution_count": 7,
   "metadata": {
    "collapsed": false
   },
   "outputs": [
    {
     "name": "stdout",
     "output_type": "stream",
     "text": [
      "Cutting SNP: `snp:ID:1372;allele_2`\n",
      "Visualizing the two alleles\n",
      "TGCAGGGGACACAAATGTACATGGTGTAACCAGTTTCTATTCTTTGTTTCTTTGGTGTAGCAAGCATGCATTTTGGGCTTGAAAACACCCATAC (Allele 2)\n",
      "TGCAGGGGACACAAATGTACATGGTGTAACCAGTTTCTATTCTTTGTTTCTTTGGTGTAGCAAGCAAGCATTTTGGGCTTGAAAACACCCATAC (Allele 1)\n",
      "                                                                  ^\n",
      "Cutting Allele 2\n",
      "Cut site: ATGCAT\n",
      "------------------------\n",
      "Before:\n",
      "TGCAGGGGACACAAATGTACATGGTGTAACCAGTTTCTATTCTTTGTTTCTTTGGTGTAGCAAGCATGCATTTTGGGCTTGAAAACACCCATAC\n",
      "\n",
      "After:\n",
      "TGCAGGGGACACAAATGTACATGGTGTAACCAGTTTCTATTCTTTGTTTCTTTGGTGTAGCAAGCATGCA/\n",
      "                                                                     /TTTTGGGCTTGAAAACACCCATAC\n"
     ]
    }
   ],
   "source": [
    "compare(1372, 2, d, RE.EcoT22I)"
   ]
  }
 ],
 "metadata": {
  "kernelspec": {
   "display_name": "Python 2",
   "language": "python",
   "name": "python2"
  },
  "language_info": {
   "codemirror_mode": {
    "name": "ipython",
    "version": 2
   },
   "file_extension": ".py",
   "mimetype": "text/x-python",
   "name": "python",
   "nbconvert_exporter": "python",
   "pygments_lexer": "ipython2",
   "version": "2.7.12"
  }
 },
 "nbformat": 4,
 "nbformat_minor": 0
}
